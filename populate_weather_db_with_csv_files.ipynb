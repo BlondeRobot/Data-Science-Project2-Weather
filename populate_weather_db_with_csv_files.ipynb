{
 "cells": [
  {
   "cell_type": "markdown",
   "id": "def7426b",
   "metadata": {},
   "source": [
    "Populate MYSQL Weather database with synthetic static data and with historical weather data extracted from open-meteo API"
   ]
  },
  {
   "cell_type": "code",
   "execution_count": 3,
   "id": "e7a153bf",
   "metadata": {},
   "outputs": [],
   "source": [
    "# imports including classes from the create script\n",
    "\n",
    "from sqlalchemy import create_engine\n",
    "from sqlalchemy.ext.declarative import declarative_base\n",
    "from sqlalchemy import Column, Integer, String, Date, Float, Enum, Numeric, ForeignKey\n",
    "from sqlalchemy.dialects.mysql import LONGTEXT\n",
    "from sqlalchemy import MetaData\n",
    "from sqlalchemy import Index\n",
    "\n",
    "from sqlalchemy_utils import database_exists, create_database, drop_database\n",
    "\n",
    "from sqlalchemy.orm import Session\n",
    "from sqlalchemy.orm import sessionmaker\n",
    "\n",
    "import pymysql\n",
    "\n",
    "import pandas as pd\n",
    "import datetime as datetime\n",
    "\n",
    "from create_mysql_db_weather import (\n",
    "    engine,\n",
    "    Base,\n",
    "    Location,\n",
    "    Weather_Data,\n",
    "    Customer,\n",
    "    Device_Component,\n",
    "    Device\n",
    ")\n"
   ]
  },
  {
   "cell_type": "code",
   "execution_count": 6,
   "id": "8531559a",
   "metadata": {},
   "outputs": [],
   "source": [
    "# establish the session with database engine\n",
    "\n",
    "Session = sessionmaker(bind=engine)\n",
    "session = Session()"
   ]
  },
  {
   "cell_type": "code",
   "execution_count": 7,
   "id": "da0cd484",
   "metadata": {},
   "outputs": [],
   "source": [
    "# create populate_table function that creates rec object \n",
    "# with csv files mapping to the DB tables and columns that we want to populate\n",
    "\n",
    "\n",
    "def populate_table(csv_file,table):\n",
    "\n",
    "    df = pd.read_csv(csv_file, sep = ',', encoding = 'latin-1')\n",
    "    df = df.dropna()\n",
    "    #i=0\n",
    "    \n",
    "    for i, val in enumerate(df.values):\n",
    "        if table == 'Location':\n",
    "            rec = Location (\n",
    "                location_id = val[0],\n",
    "                latitude = val[1],\n",
    "                longitude = val[2],\n",
    "                city = val[3],\n",
    "                region = val[4],\n",
    "                country = val[5]\n",
    "\n",
    "                \n",
    "            )\n",
    "        \n",
    "        elif table == 'Weather_Data':\n",
    "            rec = Weather_Data (\n",
    "\n",
    "                location_id = val[1],\n",
    "                time = val[2],\n",
    "                shortwave_radiation_sum_MJ_m2 = val[3],\n",
    "                temperature_2m_max_C = val[4],\n",
    "                precipitation_sum_mm = val[5],\n",
    "                relative_humidity_2m_mean_percent = val[6],\n",
    "                temperature_2m_mean_C = val[7],\n",
    "                temperature_2m_min_C = val[8]     \n",
    "\n",
    "            )\n",
    "        elif table == 'Customer':\n",
    "            rec = Customer (\n",
    "                customer_id = val[0],\n",
    "                customer_name = val[1],\n",
    "                location_id = val[2],\n",
    "                safety_risk = val[3],\n",
    "                difficult_access = val[4]\n",
    "\n",
    "            )  \n",
    "\n",
    "        elif table == 'Device_Component':\n",
    "            rec = Device_Component (\n",
    "                component_id = val[0],\n",
    "                manufacturer = val[1],\n",
    "                category = val[2],\n",
    "                device_type = val[3],\n",
    "                risk_type = val[4]\n",
    "\n",
    "            )             \n",
    "        else:\n",
    "            rec = Device (\n",
    "                device_id = val[0],\n",
    "                component_1 = val[1],\n",
    "                component_2 = val[2],\n",
    "                component_3 = val[3],\n",
    "                location_id = val[4],\n",
    "\n",
    "            )\n",
    "            \n",
    "        session.add(rec)\n",
    "        \n",
    "    session.commit()\n"
   ]
  },
  {
   "cell_type": "markdown",
   "id": "f41a11b7",
   "metadata": {},
   "source": [
    "Insert data from CSV files into MYSQL table in strict order starting with Location table that has no dependencies and continuing with tables that depend on it"
   ]
  },
  {
   "cell_type": "code",
   "execution_count": 8,
   "id": "fdbe751b",
   "metadata": {},
   "outputs": [],
   "source": [
    "# insert the data from CSV files to the Location table in database\n",
    "\n",
    "\n",
    "populate_table('synth_data/location.csv','Location')\n"
   ]
  },
  {
   "cell_type": "code",
   "execution_count": 10,
   "id": "e7c60b62",
   "metadata": {},
   "outputs": [],
   "source": [
    "populate_table('synth_data/customer.csv','Customer')"
   ]
  },
  {
   "cell_type": "code",
   "execution_count": 11,
   "id": "cc6b5348",
   "metadata": {},
   "outputs": [],
   "source": [
    "populate_table('synth_data/device_component.csv','Device_Component')"
   ]
  },
  {
   "cell_type": "code",
   "execution_count": null,
   "id": "61fd47da",
   "metadata": {},
   "outputs": [],
   "source": [
    "populate_table('synth_data/device_component.csv','Device_Component')"
   ]
  },
  {
   "cell_type": "code",
   "execution_count": null,
   "id": "451dd632",
   "metadata": {},
   "outputs": [],
   "source": [
    "populate_table('meteo_data/historical_weather_load.csv', 'Weather_Data')"
   ]
  }
 ],
 "metadata": {
  "kernelspec": {
   "display_name": "base",
   "language": "python",
   "name": "python3"
  },
  "language_info": {
   "codemirror_mode": {
    "name": "ipython",
    "version": 3
   },
   "file_extension": ".py",
   "mimetype": "text/x-python",
   "name": "python",
   "nbconvert_exporter": "python",
   "pygments_lexer": "ipython3",
   "version": "3.12.8"
  }
 },
 "nbformat": 4,
 "nbformat_minor": 5
}
